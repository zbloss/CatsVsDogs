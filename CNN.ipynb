{
 "cells": [
  {
   "cell_type": "code",
   "execution_count": 1,
   "metadata": {},
   "outputs": [],
   "source": [
    "import tensorflow as tf\n",
    "from tensorflow.keras.models import Sequential\n",
    "from tensorflow.keras.layers import Dense, Dropout, Activation, Flatten, Conv2D, MaxPooling2D\n",
    "\n",
    "import pickle\n",
    "\n",
    "X = pickle.load(open(\"X.pickle\", \"rb\"))\n",
    "y = pickle.load(open(\"y.pickle\", \"rb\"))"
   ]
  },
  {
   "cell_type": "code",
   "execution_count": 2,
   "metadata": {},
   "outputs": [
    {
     "data": {
      "text/plain": [
       "'\\nconfig = tf.ConfigProto()\\nconfig.gpu_options.allow_growth = True\\nsess = tf.Session(config=config)\\n'"
      ]
     },
     "execution_count": 2,
     "metadata": {},
     "output_type": "execute_result"
    }
   ],
   "source": [
    "'''\n",
    "config = tf.ConfigProto()\n",
    "config.gpu_options.allow_growth = True\n",
    "sess = tf.Session(config=config)\n",
    "'''"
   ]
  },
  {
   "cell_type": "code",
   "execution_count": null,
   "metadata": {},
   "outputs": [],
   "source": []
  },
  {
   "cell_type": "code",
   "execution_count": 3,
   "metadata": {},
   "outputs": [],
   "source": [
    "# need to scale the data, now we know the min is 0, and the max size for pixel data is 255, so we can just divide by 255.0\n",
    "# we can always use a tensorflow.keras.utils.normalize to actually normalize\n",
    "\n",
    "X = tf.keras.utils.normalize(X, axis=1)\n",
    "\n"
   ]
  },
  {
   "cell_type": "code",
   "execution_count": 4,
   "metadata": {},
   "outputs": [
    {
     "name": "stdout",
     "output_type": "stream",
     "text": [
      "Train on 22451 samples, validate on 2495 samples\n",
      "Epoch 1/10\n",
      "22451/22451 [==============================] - 46s 2ms/step - loss: 0.6386 - acc: 0.6328 - val_loss: 0.6098 - val_acc: 0.6633\n",
      "Epoch 2/10\n",
      "22451/22451 [==============================] - 5s 202us/step - loss: 0.5623 - acc: 0.7175 - val_loss: 0.5764 - val_acc: 0.7010\n",
      "Epoch 3/10\n",
      "22451/22451 [==============================] - 5s 201us/step - loss: 0.5160 - acc: 0.7496 - val_loss: 0.5277 - val_acc: 0.7571\n",
      "Epoch 4/10\n",
      "22451/22451 [==============================] - 4s 200us/step - loss: 0.4932 - acc: 0.7653 - val_loss: 0.5203 - val_acc: 0.7583\n",
      "Epoch 5/10\n",
      "22451/22451 [==============================] - 4s 200us/step - loss: 0.4704 - acc: 0.7769 - val_loss: 0.5172 - val_acc: 0.7491\n",
      "Epoch 6/10\n",
      "22451/22451 [==============================] - 4s 200us/step - loss: 0.4517 - acc: 0.7888 - val_loss: 0.5208 - val_acc: 0.7571\n",
      "Epoch 7/10\n",
      "22451/22451 [==============================] - 4s 200us/step - loss: 0.4344 - acc: 0.8007 - val_loss: 0.4974 - val_acc: 0.7699\n",
      "Epoch 8/10\n",
      "22451/22451 [==============================] - 5s 201us/step - loss: 0.4203 - acc: 0.8070 - val_loss: 0.5062 - val_acc: 0.7707\n",
      "Epoch 9/10\n",
      "22451/22451 [==============================] - 5s 203us/step - loss: 0.4020 - acc: 0.8175 - val_loss: 0.5032 - val_acc: 0.7723\n",
      "Epoch 10/10\n",
      "22451/22451 [==============================] - 5s 201us/step - loss: 0.3912 - acc: 0.8218 - val_loss: 0.5273 - val_acc: 0.7747\n"
     ]
    },
    {
     "data": {
      "text/plain": [
       "<tensorflow.python.keras.callbacks.History at 0x1f62403f390>"
      ]
     },
     "execution_count": 4,
     "metadata": {},
     "output_type": "execute_result"
    }
   ],
   "source": [
    "model = Sequential()\n",
    "\n",
    "# Layer 1\n",
    "model.add(Conv2D(64, (3,3), input_shape=X.shape[1:])) # this input_shape is grabbing everything from when we reshaped X in the create_dataset file. It is grabbing everything after the -1\n",
    "model.add(Activation(\"relu\"))\n",
    "model.add(MaxPooling2D(pool_size=(2,2)))\n",
    "\n",
    "# Layer 2\n",
    "model.add(Conv2D(64, (3,3)))\n",
    "model.add(Activation(\"relu\"))\n",
    "model.add(MaxPooling2D(pool_size=(2,2)))\n",
    "\n",
    "# Layer 3\n",
    "# convolutional layers use 2D data, Dense needs 1D data, so we need to flatten the data before passing in our Dense layer\n",
    "model.add(Flatten())\n",
    "model.add(Dense(64))\n",
    "\n",
    "# Output Layer\n",
    "model.add(Dense(1))\n",
    "model.add(Activation('sigmoid'))\n",
    "\n",
    "\n",
    "model.compile(loss=\"binary_crossentropy\", # because it is dogs/cats, we use binary\n",
    "             optimizer = \"adam\",\n",
    "             metrics=['accuracy'])\n",
    "\n",
    "model.fit(X, y, batch_size=32, epochs=10, validation_split=0.1) # use batch_size so we aren't passing the entire dataset in at a time, \n",
    "                                                     # validation_split is us using 10% of the dataset as an out of dataset test\n",
    "                                                     # it is a more advanced way of training than train_test_split()\n"
   ]
  },
  {
   "cell_type": "code",
   "execution_count": null,
   "metadata": {},
   "outputs": [],
   "source": []
  },
  {
   "cell_type": "code",
   "execution_count": null,
   "metadata": {},
   "outputs": [],
   "source": []
  }
 ],
 "metadata": {
  "kernelspec": {
   "display_name": "Python 3",
   "language": "python",
   "name": "python3"
  },
  "language_info": {
   "codemirror_mode": {
    "name": "ipython",
    "version": 3
   },
   "file_extension": ".py",
   "mimetype": "text/x-python",
   "name": "python",
   "nbconvert_exporter": "python",
   "pygments_lexer": "ipython3",
   "version": "3.6.6"
  }
 },
 "nbformat": 4,
 "nbformat_minor": 2
}
